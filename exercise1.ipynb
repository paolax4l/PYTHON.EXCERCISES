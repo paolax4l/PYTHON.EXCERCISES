{
  "nbformat": 4,
  "nbformat_minor": 0,
  "metadata": {
    "colab": {
      "provenance": [],
      "include_colab_link": true
    },
    "kernelspec": {
      "name": "python3",
      "display_name": "Python 3"
    },
    "language_info": {
      "name": "python"
    }
  },
  "cells": [
    {
      "cell_type": "markdown",
      "metadata": {
        "id": "view-in-github",
        "colab_type": "text"
      },
      "source": [
        "<a href=\"https://colab.research.google.com/github/paolax4l/PYTHON.EXCERCISES/blob/main/exercise1.ipynb\" target=\"_parent\"><img src=\"https://colab.research.google.com/assets/colab-badge.svg\" alt=\"Open In Colab\"/></a>"
      ]
    },
    {
      "cell_type": "markdown",
      "source": [
        "## Άσκηση 1\n",
        "\n",
        "Δημιουργήστε τις παρακάτω μεταβλητές:\n",
        "- όνομα\n",
        "- επώνυμο\n",
        "- αριθμός μητρώου\n",
        "- μάθημα 1\n",
        "- μάθημα 2\n",
        "- μάθημα 3\n",
        "- βαθμός μαθήματος 1\n",
        "- βαθμός μαθήματος 2\n",
        "- βαθμός μαθήματος 3\n",
        "\n",
        "Σε κάθε μεταβλητή δώστε το κατάλληλο όνομα (με αγγλικούς χαρακτήρες) και την αντίστοιχη τιμή, με το σωστό τύπο δεδομένων (string / integer).\n",
        "\n",
        "Τυπώστε στην οθόνη (print) τις τιμές όλων των μεταβλητών που ορίσατε.\n",
        "\n",
        "**Hints**:\n",
        "- όπου η τιμή είναι αριθμός, σκεφτείτε αν θα χρησιμοποιήσετε stirng ή integer, ανάλογα με το αν χρειάζεται να κάνετε αργότερα αριθμητικές πράξεις\n",
        "- χρησιμοποιήστε ονόματα μεταβλητών που να έχουν νόημα\n",
        "- εάν γράψετε όλες τις εντολές σε ένα κελί, όταν φτάσετε στο τέλος στο σημείο να γράψετε την εντολή `print`, το colab θα σας προτείνει να γράψετε μέσα στις παρενθέσεις όλες τις μεταβλητές. Πατήστε `tab` για να αποδεχτείτε την πρόταση που σας κάνει."
      ],
      "metadata": {
        "id": "JZISjhuEQFOB"
      }
    },
    {
      "cell_type": "code",
      "execution_count": 2,
      "metadata": {
        "id": "cRnQhimEPhY0",
        "outputId": "0c5697e3-146b-48f9-f141-9cfcfbafe0af",
        "colab": {
          "base_uri": "https://localhost:8080/"
        }
      },
      "outputs": [
        {
          "output_type": "stream",
          "name": "stdout",
          "text": [
            "Name: Paola\n",
            "Surname: Halilaj\n",
            "Id: 2100143\n",
            "Computational Data Journalism : 10 /10\n",
            "Political Economy Of The Media : 10 /10\n",
            "History Of The Media : 10 /10\n"
          ]
        }
      ],
      "source": [
        "name = \"Paola\"  # string\n",
        "surname = \"Halilaj\"  # string\n",
        "id = 2100143  # integer\n",
        "lesson1 = \"Computational Data Journalism\"  # string\n",
        "lesson2 = \"Political Economy Of The Media\"  # string\n",
        "lesson3 = \"History Of The Media\"  # string\n",
        "grade_lesson1 = 10  # integer\n",
        "grade_lesson2 = 10  # integer\n",
        "grade_lesson3 = 10  # integer\n",
        "\n",
        "print(\"Name: \"+name)\n",
        "print(\"Surname: \"+surname)\n",
        "print(\"Id:\",id)\n",
        "print(lesson1, \":\", grade_lesson1, \"/10\")\n",
        "print(lesson2, \":\", grade_lesson2, \"/10\")\n",
        "print(lesson3, \":\", grade_lesson3, \"/10\")\n"
      ]
    },
    {
      "cell_type": "markdown",
      "source": [
        "## Άσκηση 2\n",
        "\n",
        "Υπολογίστε το μέσο όρο των βαθμών των 3 μαθημάτων, αποθηκεύστε τον σε μια μεταβλητή και τυπώστε την τιμή της μεταβλητής του μέσου όρου στην οθόνη.\n",
        "\n",
        "**Hints**:\n",
        "- ο μέσος όρος υπολογίζεται με τη φόρμουλα: <άθροισμα επιμέρους τιμών> δια <πλήθος τιμών>\n",
        "- για τον υπολογισμό του αθροίσματος των επιμέρους τιμών χρησιμοποιήστε τα ονόματα των μεταβλητών των επιμέρους τιμών και όχι τις τιμές τους"
      ],
      "metadata": {
        "id": "uPD0W-qcWcfV"
      }
    },
    {
      "cell_type": "code",
      "source": [],
      "metadata": {
        "id": "Z0OnhXMURzMR"
      },
      "execution_count": null,
      "outputs": []
    },
    {
      "cell_type": "markdown",
      "source": [
        "Τυπώστε στην οθόνη τον τύπο δεδομένων της μεταβλητής του μέσου όρου."
      ],
      "metadata": {
        "id": "3lDi2k3iYoWe"
      }
    },
    {
      "cell_type": "code",
      "source": [],
      "metadata": {
        "id": "ET5xvgxTZAJb"
      },
      "execution_count": null,
      "outputs": []
    },
    {
      "cell_type": "markdown",
      "source": [
        "Μετατρέψτε το μέσο όρο σε ακέραιο (integer) και τυπώστε το αποτέλεσμα στην οθόνη."
      ],
      "metadata": {
        "id": "y-QK_9DmZHAF"
      }
    },
    {
      "cell_type": "code",
      "source": [],
      "metadata": {
        "id": "VV13wQMoR69T"
      },
      "execution_count": null,
      "outputs": []
    },
    {
      "cell_type": "markdown",
      "source": [
        "## Άσκηση 3\n",
        "\n",
        "Δημιουργήστε ένα νέο κελί κώδικα.\n",
        "\n",
        "Μέσα στο κελί γράφει: Start coding or generate with AI. Πατήστε τη λέξη generate.\n",
        "\n",
        "Στο κελί Generate που εμφανίζεται γράψτε ένα prompt με το οποίο να του ζητάτε να αλλάξει τη μεταβλητή grade1 σε 5 και να ξαναϋπολογίσει και να τυπώσει τον μέσο όρο."
      ],
      "metadata": {
        "id": "1dhIvNXCecFf"
      }
    },
    {
      "cell_type": "code",
      "source": [],
      "metadata": {
        "id": "Qqvc9WWYVLYH"
      },
      "execution_count": null,
      "outputs": []
    },
    {
      "cell_type": "markdown",
      "source": [
        "## Άσκηση 4\n",
        "\n",
        "Φτιάξτε μια λίστα με όνομα actorsL και βάλτε μέσα στη λίστα τα ονοματεπώνυμα 3 αγαπημένων σας ηθοποιών.\n",
        "\n",
        "Χρησιμοποιώντας το index, τυπώστε στην οθόνη:\n",
        "- το 2ο ονοματεπώνυμο της λίστας\n",
        "- το τελευταίο ονοματεπώνυμο της λίστας\n",
        "- τα 2 πρώτα ονοματεπώνυμα"
      ],
      "metadata": {
        "id": "_BaLrQrqV3jw"
      }
    },
    {
      "cell_type": "code",
      "source": [],
      "metadata": {
        "id": "J8U-TfzMXVkx"
      },
      "execution_count": null,
      "outputs": []
    }
  ]
}