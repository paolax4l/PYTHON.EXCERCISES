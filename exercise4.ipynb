{
  "nbformat": 4,
  "nbformat_minor": 0,
  "metadata": {
    "colab": {
      "provenance": [],
      "include_colab_link": true
    },
    "kernelspec": {
      "name": "python3",
      "display_name": "Python 3"
    },
    "language_info": {
      "name": "python"
    }
  },
  "cells": [
    {
      "cell_type": "markdown",
      "metadata": {
        "id": "view-in-github",
        "colab_type": "text"
      },
      "source": [
        "<a href=\"https://colab.research.google.com/github/paolax4l/PYTHON.EXCERCISES/blob/main/exercise4.ipynb\" target=\"_parent\"><img src=\"https://colab.research.google.com/assets/colab-badge.svg\" alt=\"Open In Colab\"/></a>"
      ]
    },
    {
      "cell_type": "markdown",
      "source": [
        "### Άσκηση 1\n",
        "\n",
        "Φτιάξτε ένα νέο κελί κώδικα ακριβώς από κάτω και:\n",
        "\n",
        "- Φτιάξτε μια λίστα με όνομα titlesL και βάλτε μέσα τους τίτλους 3 αγαπημένων σας ταινιών\n",
        "- Φτιάξτε άλλη μια λίστα με όνομα ratingsL και βάλτε μέσα το βαθμό (από το 1 έως το 10) που θα βάζατε σε καθε μια από τις ταινίες\n",
        "- Φτιάξτε μια for loop που να τρέχει για όλα τα αντικείμενα της λίστας των ταινιών και να τυπώνει το όνομά της και το βαθμό της.\n",
        "\n",
        "Hints:\n",
        "Δεδομενου ότι οι δύο λίστες έχουν τον ίδιο αριθμό αντικειμένων και η σειρά των βαθμολογιών αντιστοιχεί στη σειρά των ταινιών, μπορείτε να χρησιμοποιήσετε τον αριθμό του index και την range() σε συνδυασμό με τη len().\n",
        "\n",
        "**Γράψτε σε comment τι κάνει η κάθε γραμμή του κώδικά σας.**\n"
      ],
      "metadata": {
        "id": "QOAgGYGWvJIp"
      }
    },
    {
      "cell_type": "code",
      "source": [
        "titlesL = [\"Titanic\", \"The Notebook\", \"Shrek\"] # Δημιουργία λίστας 3 αγαπημένων ταινιών\n",
        "ratingsL = [8,10,9] # Δημιουργία λίστας με αντίστοιχες βαθμολογίες ταινιών\n",
        "for i in range(len(titlesL)): # for loop με range για την επανάληψη του κώδικα όσες φορές έχει αντικείμενα η λίστα\n",
        "  print(titlesL[i], ratingsL[i]) # εκτύπωση ονόματος ταινίας με την αντίστοιχη βαθμολογία, χρησιμοποιώντας το ίδιο index και για τις δυο λίστες"
      ],
      "metadata": {
        "id": "wxuW62Ly2z8q",
        "colab": {
          "base_uri": "https://localhost:8080/"
        },
        "outputId": "41625133-98eb-4344-86f1-970f82f24b87"
      },
      "execution_count": 12,
      "outputs": [
        {
          "output_type": "stream",
          "name": "stdout",
          "text": [
            "Titanic 8\n",
            "The Notebook 10\n",
            "Shrek 9\n"
          ]
        }
      ]
    },
    {
      "cell_type": "markdown",
      "source": [
        "### Άσκηση 2\n",
        "\n",
        "Φτιάξτε ένα νέο κελί κώδικα ακριβώς από κάτω και:\n",
        "\n",
        "- Φτιάξτε μια λίστα με όνομα titlesL και βάλτε μέσα τους τίτλους 3 αγαπημένων σας ταινιών\n",
        "- Φτιάξτε άλλη μια λίστα με όνομα ratingsL και βάλτε μέσα το βαθμό (από το 1 έως το 10) που θα βάζατε σε καθε μια από τις ταινίες\n",
        "\n",
        "**Αν κάνατε την προηγούμενη άσκηση, χρησιμοποιήστε τις ήδη δημιουργημένες λίστες titlesL και ratingsL - δλδ μην φτιάξετε καινούριες λίστες για το ίδιο πράγμα**\n",
        "\n",
        "- Φτιάξτε μια κενή λίστα με όνομα moviesL\n",
        "\n",
        "Φτιάξτε μια for loop που να τρέχει για όλα τα indexes της λίστας των ταινιών και να κάνει τα παρακάτω:\n",
        "- δημιουργεί ένα κενό λεξικό με όνομα movieD\n",
        "- φτιάχνει ένα item στο λεξικό με όνομα κλειδιού \"title\" και τιμή τον τίτλο που αντιστοιχεί στο εκάστοτε index της λίστας titlesL\n",
        "- φτιάχνει ένα item στο λεξικό με όνομα κλειδιού \"rating\" και τιμή το rating που αντιστοιχεδί στο εκάστοτε index της λίστας ratingsL\n",
        "- προσθέτει το λεξικό στη λίστα moviesL\n",
        "\n",
        "Τέλος, τυπώστε τη λίστα moviesL.\n",
        "\n",
        "**Γράψτε σε comment τι κάνει η κάθε γραμμή του κώδικά σας.**\n"
      ],
      "metadata": {
        "id": "TjFqUapc0JMr"
      }
    },
    {
      "cell_type": "code",
      "source": [
        "titlesL = [\"Titanic\", \"The Notebook\", \"Shrek\"] # Δημιουργία λίστας 3 αγαπημένων ταινιών\n",
        "ratingsL = [8,10,9] # Δημιουργία λίστας με αντίστοιχες βαθμολογίες ταινιών"
      ],
      "metadata": {
        "id": "gDcAB6eG8AbC"
      },
      "execution_count": 23,
      "outputs": []
    },
    {
      "cell_type": "markdown",
      "source": [],
      "metadata": {
        "id": "btFyRDwlSmrb"
      }
    },
    {
      "cell_type": "code",
      "source": [
        "moviesL = [] #Δημιουργία κενής λίστας"
      ],
      "metadata": {
        "id": "Bnx2EXenLP24"
      },
      "execution_count": 24,
      "outputs": []
    },
    {
      "cell_type": "code",
      "source": [
        "for i in range(len(titlesL)): # Για κάθε index της λίστας titlesL\n",
        "   movieD = {} # Δημιουργία κενού λεξικού\n",
        "   movieD[\"title\"] = titlesL[i] # Προσθήκη του ονόματος της ταινίας στο λεξικό\n",
        "   movieD[\"rating\"] = ratingsL[i] # Προσθήκη βαθμολογίας ταινίας\n",
        "   moviesL.append(movieD) #Προσθήκη λεξικού στη λίστα moviesL\n",
        "   print(moviesL) # Εκτύπωση της λίστας με τα λεξικά ταινιών\n",
        "\n",
        "\n",
        "\n"
      ],
      "metadata": {
        "colab": {
          "base_uri": "https://localhost:8080/"
        },
        "id": "DIihvBEjLlrP",
        "outputId": "f3261a33-83e0-4acd-f2b7-c3cca9009bec"
      },
      "execution_count": 25,
      "outputs": [
        {
          "output_type": "stream",
          "name": "stdout",
          "text": [
            "[{'title': 'Titanic', 'rating': 8}]\n",
            "[{'title': 'Titanic', 'rating': 8}, {'title': 'The Notebook', 'rating': 10}]\n",
            "[{'title': 'Titanic', 'rating': 8}, {'title': 'The Notebook', 'rating': 10}, {'title': 'Shrek', 'rating': 9}]\n"
          ]
        }
      ]
    },
    {
      "cell_type": "markdown",
      "source": [
        "### Άσκηση 3\n",
        "\n",
        "Γράψτε ένα προγραμματάκι που θα αθροίζει όλους τους περιττούς αριθμούς από το 1 έως και το 100 και θα τυπώνει το τελικό άθροισμα.\n",
        "\n",
        "Hints & tips:\n",
        "\n",
        "- περιττοί είναι οι αριθμοί που το υπόλοιπο της διαίρεσής τους με το 2 ΔΕΝ είναι 0 (x % 2 != 0)\n",
        "- μπορούμε αρχικά να ορίσουμε ότι το άθροισμα των περιττών αριθμών είναι 0 (sum = 0)\n",
        "- στη συνέχεια μπορούμε να φτιάξουμε μια λούπα που θα κάνει τα εξής:\n",
        "  - για κάθε αριθμό από το 1 ως και το 100\n",
        "  - αν το υπόλοιπο της διαίρεσης του αριθμού με το 2 δεν είναι 0\n",
        "  - το άθροισμα θα αυξάνεται κατά τον αριθμό\n"
      ],
      "metadata": {
        "id": "_0torHabJHFA"
      }
    },
    {
      "cell_type": "code",
      "execution_count": 27,
      "metadata": {
        "id": "rKIkwJofI3Cj",
        "colab": {
          "base_uri": "https://localhost:8080/"
        },
        "outputId": "1cc5b6e6-c417-48a9-cc31-aa0104b31a5b"
      },
      "outputs": [
        {
          "output_type": "stream",
          "name": "stdout",
          "text": [
            "Το άθροισμα των περιττών αριθμών από 1 έως 100 είναι: 2500\n"
          ]
        }
      ],
      "source": [
        "sum = 0 # Αρχικοποίηση μιας μεταβλητής sum με τιμή 0, όπου θα αποθηκεύεται το άθροισμα\n",
        "for i in range(1, 101):  # λούπα που επαναλαμβάνεται για όλους τους αριθμούς από 1 έως και 100\n",
        "    if i % 2 != 0:       # Αν ο αριθμός είναι περιττός\n",
        "        sum += i         # Προσθήκη περιττού αριθμό στο άθροισμα\n",
        "\n",
        "print(\"Το άθροισμα των περιττών αριθμών από 1 έως 100 είναι:\", sum)  # Εκτύπωση τελικού αποτελέσματος\n"
      ]
    },
    {
      "cell_type": "markdown",
      "source": [
        "### Άσκηση 4\n",
        "\n",
        "Τροποποιήστε το παραπάνω πρόγραμμα έτσι ώστε, εκτός από το άθροισμα των περιττών, να υπολογίζει και να τυπώνει ΚΑΙ:\n",
        "- το πλήθος των περιττών αριθμών\n",
        "- το άθροισμα των ζυγών αριθμών στο ίδιο εύρος\n",
        "- το πλήθος των ζυγών αριθμών"
      ],
      "metadata": {
        "id": "zvsE7AANokOf"
      }
    },
    {
      "cell_type": "code",
      "source": [
        "# Δημιουργία μεταβλητής για το άθροισμα των περιττών αριθμών και αρχικοποίηση στο 0\n",
        "odd_sum = 0"
      ],
      "metadata": {
        "id": "Wza4cHEzO1Y_"
      },
      "execution_count": 28,
      "outputs": []
    },
    {
      "cell_type": "code",
      "source": [
        "# Δημιουργία μεταβλητής για να μετράμε πόσοι περιττοί αριθμοί υπάρχουν\n",
        "odd_count = 0"
      ],
      "metadata": {
        "id": "L1KPI5QvnEdv"
      },
      "execution_count": 29,
      "outputs": []
    },
    {
      "cell_type": "code",
      "source": [
        "# Δημιουργία μεταβλητής για το άθροισμα των ζυγών αριθμών και αρχικοποίηση στο 0\n",
        "even_sum = 0"
      ],
      "metadata": {
        "id": "9CSxeZp6nFOW"
      },
      "execution_count": 35,
      "outputs": []
    },
    {
      "cell_type": "code",
      "source": [
        "# Δημιουργία μεταβλητής για να μετράμε πόσοι ζυγοί αριθμοί υπάρχουν\n",
        "even_count = 0"
      ],
      "metadata": {
        "id": "Runc3Eb2nKON"
      },
      "execution_count": 36,
      "outputs": []
    },
    {
      "cell_type": "code",
      "source": [
        "# Φτιάχνουμε μια λούπα που τρέχει από το 1 έως και το 100 (συμπεριλαμβάνεται το 100)\n",
        "for i in range(1, 101):\n",
        "\n",
        "    # Ελέγχουμε αν ο αριθμός είναι περιττός (το υπόλοιπο της διαίρεσης με το 2 δεν είναι 0)\n",
        "    if i % 2 != 0:\n",
        "        # Αν είναι περιττός, τον προσθέτουμε στο odd_sum\n",
        "        odd_sum += i\n",
        "\n",
        "        # Και αυξάνουμε το πλήθος των περιττών αριθμών κατά 1\n",
        "        odd_count += 1\n",
        "\n",
        "    # Αν ΔΕΝ είναι περιττός, τότε είναι ζυγός\n",
        "    else:\n",
        "        # Προσθέτουμε τον ζυγό αριθμό στο even_sum\n",
        "        even_sum += i\n",
        "\n",
        "        # Και αυξάνουμε το πλήθος των ζυγών αριθμών κατά 1\n",
        "        even_count += 1"
      ],
      "metadata": {
        "id": "qQqZQLp3nKxS"
      },
      "execution_count": 56,
      "outputs": []
    },
    {
      "cell_type": "code",
      "source": [
        "# Τυπώνουμε το τελικό άθροισμα των περιττών αριθμών\n",
        "print(\"Άθροισμα περιττών αριθμών:\", odd_sum)\n",
        "\n",
        "# Τυπώνουμε πόσοι περιττοί αριθμοί υπήρχαν\n",
        "print(\"Πλήθος περιττών αριθμών:\", odd_count)\n",
        "\n",
        "# Τυπώνουμε το τελικό άθροισμα των ζυγών αριθμών\n",
        "print(\"Άθροισμα ζυγών αριθμών:\", even_sum)\n",
        "\n",
        "# Τυπώνουμε πόσοι ζυγοί αριθμοί υπήρχαν\n",
        "print(\"Πλήθος ζυγών αριθμών:\", even_count)"
      ],
      "metadata": {
        "colab": {
          "base_uri": "https://localhost:8080/"
        },
        "id": "WmRGvHjooyRx",
        "outputId": "9da82160-5f84-4820-877c-d91426ab42d2"
      },
      "execution_count": 57,
      "outputs": [
        {
          "output_type": "stream",
          "name": "stdout",
          "text": [
            "Άθροισμα περιττών αριθμών: 5000\n",
            "Πλήθος περιττών αριθμών: 50\n",
            "Άθροισμα ζυγών αριθμών: 2550\n",
            "Πλήθος ζυγών αριθμών: 50\n"
          ]
        }
      ]
    }
  ]
}