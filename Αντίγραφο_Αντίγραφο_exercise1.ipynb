{
  "nbformat": 4,
  "nbformat_minor": 0,
  "metadata": {
    "colab": {
      "provenance": [],
      "include_colab_link": true
    },
    "kernelspec": {
      "name": "python3",
      "display_name": "Python 3"
    },
    "language_info": {
      "name": "python"
    }
  },
  "cells": [
    {
      "cell_type": "markdown",
      "metadata": {
        "id": "view-in-github",
        "colab_type": "text"
      },
      "source": [
        "<a href=\"https://colab.research.google.com/github/paolax4l/PYTHON.EXCERCISES/blob/main/%CE%91%CE%BD%CF%84%CE%AF%CE%B3%CF%81%CE%B1%CF%86%CE%BF_%CE%91%CE%BD%CF%84%CE%AF%CE%B3%CF%81%CE%B1%CF%86%CE%BF_exercise1.ipynb\" target=\"_parent\"><img src=\"https://colab.research.google.com/assets/colab-badge.svg\" alt=\"Open In Colab\"/></a>"
      ]
    },
    {
      "cell_type": "markdown",
      "source": [
        "## Άσκηση 1\n",
        "\n",
        "Δημιουργήστε τις παρακάτω μεταβλητές:\n",
        "- όνομα\n",
        "- επώνυμο\n",
        "- αριθμός μητρώου\n",
        "- μάθημα 1\n",
        "- μάθημα 2\n",
        "- μάθημα 3\n",
        "- βαθμός μαθήματος 1\n",
        "- βαθμός μαθήματος 2\n",
        "- βαθμός μαθήματος 3\n",
        "\n",
        "Σε κάθε μεταβλητή δώστε το κατάλληλο όνομα (με αγγλικούς χαρακτήρες) και την αντίστοιχη τιμή, με το σωστό τύπο δεδομένων (string / integer).\n",
        "\n",
        "Τυπώστε στην οθόνη (print) τις τιμές όλων των μεταβλητών που ορίσατε.\n",
        "\n",
        "**Hints**:\n",
        "- όπου η τιμή είναι αριθμός, σκεφτείτε αν θα χρησιμοποιήσετε stirng ή integer, ανάλογα με το αν χρειάζεται να κάνετε αργότερα αριθμητικές πράξεις\n",
        "- χρησιμοποιήστε ονόματα μεταβλητών που να έχουν νόημα\n",
        "- εάν γράψετε όλες τις εντολές σε ένα κελί, όταν φτάσετε στο τέλος στο σημείο να γράψετε την εντολή `print`, το colab θα σας προτείνει να γράψετε μέσα στις παρενθέσεις όλες τις μεταβλητές. Πατήστε `tab` για να αποδεχτείτε την πρόταση που σας κάνει."
      ],
      "metadata": {
        "id": "JZISjhuEQFOB"
      }
    },
    {
      "cell_type": "code",
      "execution_count": null,
      "metadata": {
        "id": "cRnQhimEPhY0",
        "colab": {
          "base_uri": "https://localhost:8080/"
        },
        "outputId": "0c5697e3-146b-48f9-f141-9cfcfbafe0af"
      },
      "outputs": [
        {
          "output_type": "stream",
          "name": "stdout",
          "text": [
            "Name: Paola\n",
            "Surname: Halilaj\n",
            "Id: 2100143\n",
            "Computational Data Journalism : 10 /10\n",
            "Political Economy Of The Media : 10 /10\n",
            "History Of The Media : 10 /10\n"
          ]
        }
      ],
      "source": [
        "name = \"Paola\"  # string\n",
        "surname = \"Halilaj\"  # string\n",
        "id = 2100143  # integer\n",
        "lesson1 = \"Computational Data Journalism\"  # string\n",
        "lesson2 = \"Political Economy Of The Media\"  # string\n",
        "lesson3 = \"History Of The Media\"  # string\n",
        "grade_lesson1 = 10  # integer\n",
        "grade_lesson2 = 10  # integer\n",
        "grade_lesson3 = 10  # integer\n",
        "\n",
        "print(\"Name: \"+name)\n",
        "print(\"Surname: \"+surname)/\n",
        "print(\"Id:\",id)\n",
        "print(lesson1, \":\", grade_lesson1, \"/10\")\n",
        "print(lesson2, \":\", grade_lesson2, \"/10\")\n",
        "print(lesson3, \":\", grade_lesson3, \"/10\")\n"
      ]
    },
    {
      "cell_type": "markdown",
      "source": [
        "## Άσκηση 2\n",
        "\n",
        "Υπολογίστε το μέσο όρο των βαθμών των 3 μαθημάτων, αποθηκεύστε τον σε μια μεταβλητή και τυπώστε την τιμή της μεταβλητής του μέσου όρου στην οθόνη.\n",
        "\n",
        "**Hints**:\n",
        "- ο μέσος όρος υπολογίζεται με τη φόρμουλα: <άθροισμα επιμέρους τιμών> δια <πλήθος τιμών>\n",
        "- για τον υπολογισμό του αθροίσματος των επιμέρους τιμών χρησιμοποιήστε τα ονόματα των μεταβλητών των επιμέρους τιμών και όχι τις τιμές τους"
      ],
      "metadata": {
        "id": "uPD0W-qcWcfV"
      }
    },
    {
      "cell_type": "code",
      "source": [
        "name = \"Paola\"  # string\n",
        "surname = \"Halilaj\"  # string\n",
        "id = 2100143  # integer\n",
        "lesson1 = \"Computational Data Journalism\"  # string\n",
        "lesson2 = \"Political Economy Of The Media\"  # string\n",
        "lesson3 = \"History Of The Media\"  # string\n",
        "grade_lesson1 = 10  # integer\n",
        "grade_lesson2 = 10  # integer\n",
        "grade_lesson3 = 10  # integer\n",
        "\n",
        "average_grade = (grade_lesson1 + grade_lesson2 + grade_lesson3) / 3\n",
        "\n",
        "print(\"Average Grade:\",average_grade)"
      ],
      "metadata": {
        "id": "Z0OnhXMURzMR",
        "colab": {
          "base_uri": "https://localhost:8080/"
        },
        "outputId": "c0625467-e8e2-429b-8a0d-0465ade069ca"
      },
      "execution_count": null,
      "outputs": [
        {
          "output_type": "stream",
          "name": "stdout",
          "text": [
            "Average Grade: 10.0\n"
          ]
        }
      ]
    },
    {
      "cell_type": "markdown",
      "source": [
        "Τυπώστε στην οθόνη τον τύπο δεδομένων της μεταβλητής του μέσου όρου."
      ],
      "metadata": {
        "id": "3lDi2k3iYoWe"
      }
    },
    {
      "cell_type": "code",
      "source": [
        "print(\"Data type of average grade:\",type(average_grade))"
      ],
      "metadata": {
        "id": "ET5xvgxTZAJb",
        "colab": {
          "base_uri": "https://localhost:8080/"
        },
        "outputId": "55131975-aaa2-4eb0-90be-4373b60162f7"
      },
      "execution_count": null,
      "outputs": [
        {
          "output_type": "stream",
          "name": "stdout",
          "text": [
            "Data type of average grade: <class 'float'>\n"
          ]
        }
      ]
    },
    {
      "cell_type": "markdown",
      "source": [
        "Μετατρέψτε το μέσο όρο σε ακέραιο (integer) και τυπώστε το αποτέλεσμα στην οθόνη."
      ],
      "metadata": {
        "id": "y-QK_9DmZHAF"
      }
    },
    {
      "cell_type": "code",
      "source": [
        "\n",
        "print(\"Average Grade:\",int(average_grade))"
      ],
      "metadata": {
        "id": "VV13wQMoR69T",
        "colab": {
          "base_uri": "https://localhost:8080/"
        },
        "outputId": "d2f49ddc-094b-4f33-cab2-51fe95b8348d"
      },
      "execution_count": null,
      "outputs": [
        {
          "output_type": "stream",
          "name": "stdout",
          "text": [
            "Average Grade: 10\n"
          ]
        }
      ]
    },
    {
      "cell_type": "markdown",
      "source": [
        "## Άσκηση 3\n",
        "\n",
        "Δημιουργήστε ένα νέο κελί κώδικα.\n",
        "\n",
        "Μέσα στο κελί γράφει: Start coding or generate with AI. Πατήστε τη λέξη generate.\n",
        "\n",
        "Στο κελί Generate που εμφανίζεται γράψτε ένα prompt με το οποίο να του ζητάτε να αλλάξει τη μεταβλητή grade1 σε 5 και να ξαναϋπολογίσει και να τυπώσει τον μέσο όρο."
      ],
      "metadata": {
        "id": "1dhIvNXCecFf"
      }
    },
    {
      "cell_type": "code",
      "source": [
        "grades = [8, 7, 6]\n",
        "grade1 = grades[0]\n",
        "\n",
        "grade1 = 5\n",
        "grades[0] = grade1\n",
        "average = sum(grades) / len(grades)\n",
        "\n",
        "print(\"New average:\", average)"
      ],
      "metadata": {
        "id": "Qqvc9WWYVLYH",
        "colab": {
          "base_uri": "https://localhost:8080/"
        },
        "outputId": "8a0dd1a9-6bf9-4c6e-832e-51003116d710"
      },
      "execution_count": null,
      "outputs": [
        {
          "output_type": "stream",
          "name": "stdout",
          "text": [
            "New average: 6.0\n"
          ]
        }
      ]
    },
    {
      "cell_type": "markdown",
      "source": [
        "## Άσκηση 4\n",
        "\n",
        "Φτιάξτε μια λίστα με όνομα actorsL και βάλτε μέσα στη λίστα τα ονοματεπώνυμα 3 αγαπημένων σας ηθοποιών.\n",
        "\n",
        "Χρησιμοποιώντας το index, τυπώστε στην οθόνη:\n",
        "- το 2ο ονοματεπώνυμο της λίστας\n",
        "- το τελευταίο ονοματεπώνυμο της λίστας\n",
        "- τα 2 πρώτα ονοματεπώνυμα"
      ],
      "metadata": {
        "id": "_BaLrQrqV3jw"
      }
    },
    {
      "cell_type": "code",
      "source": [
        "actorsL = [\"Brad Pitt\", \"Emma Stone\", \"Anne Hathaway\"]\n",
        "\n",
        "# Print the 2nd full name (index 1)\n",
        "print(\"2nd full name:\", actorsL[1])\n",
        "\n",
        "# Print the last full name (index -1)\n",
        "print(\"Last full name:\", actorsL[-1])\n",
        "\n",
        "# Print the first two full names\n",
        "print(\"First two full names:\", actorsL[:2])"
      ],
      "metadata": {
        "id": "J8U-TfzMXVkx",
        "colab": {
          "base_uri": "https://localhost:8080/"
        },
        "outputId": "84998454-4f01-432e-98e6-11b46b4e82a6"
      },
      "execution_count": null,
      "outputs": [
        {
          "output_type": "stream",
          "name": "stdout",
          "text": [
            "2nd full name: Emma Stone\n",
            "Last full name: Anne Hathaway\n",
            "First two full names: ['Brad Pitt', 'Emma Stone']\n"
          ]
        }
      ]
    }
  ]
}